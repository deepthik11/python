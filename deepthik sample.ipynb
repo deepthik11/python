{
 "cells": [
  {
   "cell_type": "code",
   "execution_count": 1,
   "id": "663699af",
   "metadata": {},
   "outputs": [
    {
     "name": "stdout",
     "output_type": "stream",
     "text": [
      "Good morning!\n",
      "It is rainy today\n"
     ]
    }
   ],
   "source": [
    "print(\"Good morning!\")\n",
    "print(\"It is rainy today\")"
   ]
  },
  {
   "cell_type": "code",
   "execution_count": 2,
   "id": "d173325c",
   "metadata": {},
   "outputs": [
    {
     "name": "stdout",
     "output_type": "stream",
     "text": [
      "Good morning!It is rainy today\n"
     ]
    }
   ],
   "source": [
    "print(\"Good morning!\",end='')\n",
    "print(\"It is rainy today\")"
   ]
  },
  {
   "cell_type": "code",
   "execution_count": 4,
   "id": "97263d5b",
   "metadata": {},
   "outputs": [
    {
     "name": "stdout",
     "output_type": "stream",
     "text": [
      "value:10.33\n"
     ]
    }
   ],
   "source": [
    "x=10.3333333\n",
    "x\n",
    "print('value:%.2f'%x)"
   ]
  },
  {
   "cell_type": "code",
   "execution_count": 7,
   "id": "62b621ea",
   "metadata": {},
   "outputs": [
    {
     "name": "stdout",
     "output_type": "stream",
     "text": [
      "my name is john,I'm36\n",
      "my name is john,I'm36\n",
      "my name is john,I'm36\n"
     ]
    }
   ],
   "source": [
    "txt1=\"my name is {frame},I'm{age}\".format(frame=\"john\",age=36)\n",
    "txt2=\"my name is {0},I'm{1}\".format(\"john\",36)\n",
    "txt3=\"my name is {},I'm{}\".format(\"john\",36)\n",
    "print(txt1)\n",
    "print(txt2)\n",
    "print(txt3)"
   ]
  },
  {
   "cell_type": "code",
   "execution_count": 8,
   "id": "018ac608",
   "metadata": {},
   "outputs": [
    {
     "name": "stdout",
     "output_type": "stream",
     "text": [
      "2024-09-13 12:31:02.272354\n"
     ]
    }
   ],
   "source": [
    "import datetime\n",
    "\n",
    "x=datetime.datetime.now()\n",
    "\n",
    "print(x)"
   ]
  },
  {
   "cell_type": "code",
   "execution_count": null,
   "id": "898715ab",
   "metadata": {},
   "outputs": [],
   "source": []
  }
 ],
 "metadata": {
  "kernelspec": {
   "display_name": "Python 3 (ipykernel)",
   "language": "python",
   "name": "python3"
  },
  "language_info": {
   "codemirror_mode": {
    "name": "ipython",
    "version": 3
   },
   "file_extension": ".py",
   "mimetype": "text/x-python",
   "name": "python",
   "nbconvert_exporter": "python",
   "pygments_lexer": "ipython3",
   "version": "3.10.9"
  }
 },
 "nbformat": 4,
 "nbformat_minor": 5
}
