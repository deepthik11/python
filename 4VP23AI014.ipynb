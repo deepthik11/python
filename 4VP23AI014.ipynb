{
 "cells": [
  {
   "cell_type": "markdown",
   "id": "7da14dc4",
   "metadata": {},
   "source": [
    "### 1) Develop a python program to read n digit integer number and separate integer numbers and display each digit."
   ]
  },
  {
   "cell_type": "code",
   "execution_count": 34,
   "id": "b2c79b88",
   "metadata": {},
   "outputs": [
    {
     "name": "stdout",
     "output_type": "stream",
     "text": [
      "Enter the number of digits:-3\n",
      "please enter a valid number of digits(greater than 0)\n"
     ]
    }
   ],
   "source": [
    "n=int(input('Enter the number of digits:'))\n",
    "if n>0:\n",
    "    number=int(input(f\" Enter a {n} digit integer:\"))\n",
    "    if number>=10**(n-1)and number<10**n:                 \n",
    "        for i in range(n):\n",
    "                digit=number//(10**(n-1))\n",
    "                print(digit)\n",
    "                number%=10*(n-1)\n",
    "                n-=1\n",
    "        else:\n",
    "            print(f\"please enter a {n}-digit number.\")\n",
    "else:\n",
    "    print(\"please enter a valid number of digits(greater than 0)\")"
   ]
  },
  {
   "cell_type": "markdown",
   "id": "1a678c50",
   "metadata": {},
   "source": [
    "###  2)Develop a python to accept 4 numbers &display them in sorted order using a min number of if else statement."
   ]
  },
  {
   "cell_type": "code",
   "execution_count": 28,
   "id": "4db91a55",
   "metadata": {},
   "outputs": [
    {
     "name": "stdout",
     "output_type": "stream",
     "text": [
      "Enter the first number:1\n",
      "Enter the second number:2\n",
      "Enter the third number:3\n",
      "Enter the fourth number:4\n",
      "The sorted numbers are: 1 2 3 4\n"
     ]
    }
   ],
   "source": [
    "a=int(input(\"Enter the first number:\"))\n",
    "b=int(input(\"Enter the second number:\"))\n",
    "c=int(input(\"Enter the third number:\"))\n",
    "d=int(input(\"Enter the fourth number:\"))\n",
    "if a>b:a,b=b,a\n",
    "if c>d:c,d=d,c\n",
    "if a>c:c,c=c,a\n",
    "if b>d:b,d=d,b\n",
    "if b>c:b,c=c,b\n",
    "print(\"The sorted numbers are:\",a,b,c,d)    "
   ]
  },
  {
   "cell_type": "markdown",
   "id": "84ab9ee8",
   "metadata": {},
   "source": [
    "#### Find the bitwise AND of 10 and 9"
   ]
  },
  {
   "cell_type": "code",
   "execution_count": 35,
   "id": "a3c5acb6",
   "metadata": {},
   "outputs": [
    {
     "name": "stdout",
     "output_type": "stream",
     "text": [
      "8\n"
     ]
    }
   ],
   "source": [
    "a=10&9\n",
    "print(a)"
   ]
  },
  {
   "cell_type": "markdown",
   "id": "d55c4f86",
   "metadata": {},
   "source": [
    "#### Find the bitwise OR of 10 and 9"
   ]
  },
  {
   "cell_type": "code",
   "execution_count": 36,
   "id": "86af03b2",
   "metadata": {},
   "outputs": [
    {
     "name": "stdout",
     "output_type": "stream",
     "text": [
      "11\n"
     ]
    }
   ],
   "source": [
    "a=10|9\n",
    "print(a)"
   ]
  },
  {
   "cell_type": "code",
   "execution_count": 38,
   "id": "1ba30bf1",
   "metadata": {},
   "outputs": [
    {
     "name": "stdout",
     "output_type": "stream",
     "text": [
      "-11\n"
     ]
    }
   ],
   "source": [
    "a=~10\n",
    "print(a)"
   ]
  },
  {
   "cell_type": "code",
   "execution_count": 39,
   "id": "2436ae9f",
   "metadata": {},
   "outputs": [
    {
     "name": "stdout",
     "output_type": "stream",
     "text": [
      "1\n"
     ]
    }
   ],
   "source": [
    "a=6^7\n",
    "print(a)"
   ]
  },
  {
   "cell_type": "code",
   "execution_count": 42,
   "id": "6e3c6f20",
   "metadata": {},
   "outputs": [
    {
     "name": "stdout",
     "output_type": "stream",
     "text": [
      "-3\n"
     ]
    }
   ],
   "source": [
    "a=2\n",
    "print(~a)"
   ]
  },
  {
   "cell_type": "code",
   "execution_count": 43,
   "id": "f3d36c68",
   "metadata": {},
   "outputs": [
    {
     "name": "stdout",
     "output_type": "stream",
     "text": [
      "-3\n"
     ]
    }
   ],
   "source": [
    "a=-3\n",
    "print(~~a)"
   ]
  },
  {
   "cell_type": "code",
   "execution_count": 44,
   "id": "3ad9e618",
   "metadata": {},
   "outputs": [
    {
     "name": "stdout",
     "output_type": "stream",
     "text": [
      "-7\n"
     ]
    }
   ],
   "source": [
    "a=6\n",
    "print(~a)"
   ]
  },
  {
   "cell_type": "code",
   "execution_count": 62,
   "id": "28186e47",
   "metadata": {},
   "outputs": [
    {
     "data": {
      "text/plain": [
       "'0b1111'"
      ]
     },
     "execution_count": 62,
     "metadata": {},
     "output_type": "execute_result"
    }
   ],
   "source": [
    "bin(15)"
   ]
  },
  {
   "cell_type": "code",
   "execution_count": 56,
   "id": "011fdbdd",
   "metadata": {},
   "outputs": [
    {
     "name": "stdout",
     "output_type": "stream",
     "text": [
      "-3\n"
     ]
    }
   ],
   "source": [
    "a=-12\n",
    "b=a>>2\n",
    "print(b)"
   ]
  },
  {
   "cell_type": "code",
   "execution_count": 63,
   "id": "9d6dcb3b",
   "metadata": {},
   "outputs": [
    {
     "name": "stdout",
     "output_type": "stream",
     "text": [
      "5\n"
     ]
    }
   ],
   "source": [
    "a=3\n",
    "b=2\n",
    "print(a+b)\n"
   ]
  },
  {
   "cell_type": "code",
   "execution_count": 66,
   "id": "aad85b7e",
   "metadata": {},
   "outputs": [
    {
     "data": {
      "text/plain": [
       "False"
      ]
     },
     "execution_count": 66,
     "metadata": {},
     "output_type": "execute_result"
    }
   ],
   "source": [
    "a=3\n",
    "b=2\n",
    "a is b"
   ]
  },
  {
   "cell_type": "markdown",
   "id": "c7733c4b",
   "metadata": {},
   "source": [
    "### 4) Develop a program for checking if a given n digit number is palindrome or not."
   ]
  },
  {
   "cell_type": "code",
   "execution_count": 2,
   "id": "2bde33d9",
   "metadata": {},
   "outputs": [
    {
     "name": "stdout",
     "output_type": "stream",
     "text": [
      "enter an n-digit number:1234\n",
      "Not a palindrome\n"
     ]
    }
   ],
   "source": [
    "number=int(input(\"enter an n-digit number:\"))\n",
    "original_number=number\n",
    "reversed_number=0\n",
    "while number>0:\n",
    "    digit=number%10\n",
    "    reversed_number=reversed_number*10+digit\n",
    "    number//=10\n",
    "if original_number==reversed_number:\n",
    "    print(\"palindrome\")\n",
    "else:\n",
    "    print(\"Not a palindrome\")\n",
    "\n",
    "    \n",
    "        "
   ]
  },
  {
   "cell_type": "markdown",
   "id": "d49912ee",
   "metadata": {},
   "source": [
    "### 5) Develop a python to display a multiplication table for a given integer n."
   ]
  },
  {
   "cell_type": "code",
   "execution_count": 7,
   "id": "32b99ef2",
   "metadata": {},
   "outputs": [
    {
     "name": "stdout",
     "output_type": "stream",
     "text": [
      "enter an integer for the multiplication table:3\n",
      "Multplication Table for3:\n",
      "3x1=3\n",
      "3x2=6\n",
      "3x3=9\n",
      "3x4=12\n",
      "3x5=15\n",
      "3x6=18\n",
      "3x7=21\n",
      "3x8=24\n",
      "3x9=27\n",
      "3x10=30\n"
     ]
    }
   ],
   "source": [
    "n=int(input(\"enter an integer for the multiplication table:\"))\n",
    "print(f\"Multplication Table for{n}:\")\n",
    "for i in range(1,11):\n",
    "    result=n*i;\n",
    "    print(f\"{n}x{i}={result}\")\n",
    "    "
   ]
  },
  {
   "cell_type": "code",
   "execution_count": 8,
   "id": "dcd8fecb",
   "metadata": {},
   "outputs": [
    {
     "name": "stdout",
     "output_type": "stream",
     "text": [
      "I am,from,india\n"
     ]
    }
   ],
   "source": [
    " print(\"I am\",\"from\",\"india\",sep=\",\")"
   ]
  },
  {
   "cell_type": "code",
   "execution_count": 1,
   "id": "909883a2",
   "metadata": {},
   "outputs": [
    {
     "name": "stdout",
     "output_type": "stream",
     "text": [
      "Enter the number greater than zero:6\n",
      "floor of square root of a number 2\n",
      "Not a perfect square\n"
     ]
    }
   ],
   "source": [
    "import math\n",
    "num=float(input('Enter the number greater than zero:'))\n",
    "sqrtnum=math.floor(num**0.5)\n",
    "print('floor of square root of a number',sqrtnum)\n",
    "sqnum=sqrtnum*sqrtnum\n",
    "if(sqnum==num):\n",
    "    print('perfect square')\n",
    "else:\n",
    "    print('Not a perfect square')"
   ]
  },
  {
   "cell_type": "markdown",
   "id": "366efdac",
   "metadata": {},
   "source": [
    "## LAB-3"
   ]
  },
  {
   "cell_type": "markdown",
   "id": "f54bb494",
   "metadata": {},
   "source": [
    "#### Develop python to script to calculate mean,median & mode,variance and standard deviation of n integer numbers."
   ]
  },
  {
   "cell_type": "code",
   "execution_count": 28,
   "id": "676d5b04",
   "metadata": {},
   "outputs": [
    {
     "name": "stdout",
     "output_type": "stream",
     "text": [
      "Enter the number of elements:4\n",
      " Enter number 1:2\n",
      " Enter number 2:3\n",
      " Enter number 3:5\n",
      " Enter number 4:7\n",
      "mean:4.25\n",
      "median:4.0\n",
      "mode:No mode\n",
      "sample variance:4.916666666666667\n",
      "population variance:3.6875\n",
      "sample standard deviation:2.217355782608345\n",
      "population standard deviation:1.920286436967152\n"
     ]
    }
   ],
   "source": [
    "n=int(input(\"Enter the number of elements:\"))\n",
    "numbers=[int(input(f\" Enter number {i+1}:\")) for i in range(n)]\n",
    "mean=sum(numbers)/n\n",
    "numbers.sort()\n",
    "if n%2==0:\n",
    "    median=(numbers[n//2-1]+numbers[n//2])/2\n",
    "else:\n",
    "    median=numbers[n//2]\n",
    "frequency={num:numbers.count(num)for num in numbers}\n",
    "max_count=max(frequency.values())              \n",
    "mode=[k for k,v in frequency.items() if v==max_count]\n",
    "if len(mode)==n:\n",
    "            mode=\"No mode\"\n",
    "mean_difference_squared_sum=sum((x-mean)**2 for x in numbers)                   \n",
    "variance_sample=mean_difference_squared_sum /(n-1) if n>1 else 0\n",
    "variance_population=mean_difference_squared_sum /n\n",
    "std_deviation_sample=variance_sample**0.5                 \n",
    "std_population_sample=variance_population**0.5\n",
    "print(f\"mean:{mean}\")\n",
    "print(f\"median:{median}\")\n",
    "print(f\"mode:{mode}\")\n",
    "print(f\"sample variance:{variance_sample}\")\n",
    "print(f\"population variance:{variance_population}\")\n",
    "print(f\"sample standard deviation:{std_deviation_sample}\")\n",
    "print(f\"population standard deviation:{std_population_sample}\")"
   ]
  },
  {
   "cell_type": "markdown",
   "id": "2aaf2006",
   "metadata": {},
   "source": [
    "## LAB-4"
   ]
  },
  {
   "cell_type": "markdown",
   "id": "1e6ddbbd",
   "metadata": {},
   "source": [
    "### Develop a python to rotate right about a given position in that list and display them."
   ]
  },
  {
   "cell_type": "code",
   "execution_count": 6,
   "id": "b61d7900",
   "metadata": {},
   "outputs": [
    {
     "name": "stdout",
     "output_type": "stream",
     "text": [
      "Enter the integer number:254\n",
      "The reverse number is n:452\n"
     ]
    }
   ],
   "source": [
    "number=int(input(\"Enter the integer number:\"))\n",
    "revs_number=0\n",
    "while(number>0):\n",
    "    remainder=number%10\n",
    "    revs_number=(revs_number*10)+remainder\n",
    "    number=number//10\n",
    "print(\"The reverse number is n:{}\".format(revs_number))"
   ]
  },
  {
   "cell_type": "markdown",
   "id": "4466df92",
   "metadata": {},
   "source": [
    "### Develop  a  python script to interchange the digits of a given integer numbers.\n"
   ]
  },
  {
   "cell_type": "code",
   "execution_count": 1,
   "id": "643f8b07",
   "metadata": {},
   "outputs": [
    {
     "ename": "SyntaxError",
     "evalue": "expected ':' (1557435715.py, line 1)",
     "output_type": "error",
     "traceback": [
      "\u001b[0;36m  Cell \u001b[0;32mIn[1], line 1\u001b[0;36m\u001b[0m\n\u001b[0;31m    def interchange_digits(number,pos1,pos2);\u001b[0m\n\u001b[0m                                            ^\u001b[0m\n\u001b[0;31mSyntaxError\u001b[0m\u001b[0;31m:\u001b[0m expected ':'\n"
     ]
    }
   ],
   "source": [
    "def interchange_digits(number,pos1,pos2);\n",
    "number_str=str(number\n",
    "            number_list=list(number_str))\n",
    "            number_list[pos1-1],number_list[pos1-1]   \n",
    "            number_list[pos2-1],number_list[pos2-1]\n",
    "interchanged_number=int(\" \" join(number_list))\n",
    "return interchanged_number\n",
    "number=int(input('Enter the user input:'))\n",
    "pos1=int(input('Enter the 1st person which u want to swap:'))\n",
    "pos2=int(input('Enter the 2nd person which u want to swap:'))\n",
    "interchanged_number=interchange_digits(number,pos1,pos2)\n",
    "print(\"original number:\",number)\n",
    "print(\"interchanged   er:\",interchanged-number)"
   ]
  },
  {
   "cell_type": "code",
   "execution_count": 18,
   "id": "c17135b3",
   "metadata": {},
   "outputs": [
    {
     "name": "stdout",
     "output_type": "stream",
     "text": [
      "Enter the user input:12345\n",
      "Enter the 1st person which u want to swap:1\n",
      "Enter the 2nd person which u want to swap:2\n",
      "original number: 12345\n",
      "interchanged number: 12345\n"
     ]
    }
   ],
   "source": [
    "def interchange_digits(number,pos1,pos2):\n",
    "            number_str=str(number)\n",
    "            number_list=list(number_str)\n",
    "            number_list[pos1-1],number_list[pos1-1]   \n",
    "            number_list[pos2-1],number_list[pos2-1]\n",
    "            interchanged_number=int(''.join(number_list))\n",
    "            return interchanged_number\n",
    "number=int(input('Enter the user input:'))\n",
    "pos1=int(input('Enter the 1st person which u want to swap:'))\n",
    "pos2=int(input('Enter the 2nd person which u want to swap:'))\n",
    "interchanged_number=interchange_digits(number,pos1,pos2)\n",
    "print(\"original number:\",number)\n",
    "print(\"interchanged number:\",interchanged_number)"
   ]
  },
  {
   "cell_type": "code",
   "execution_count": null,
   "id": "a000a7ab",
   "metadata": {},
   "outputs": [],
   "source": []
  },
  {
   "cell_type": "code",
   "execution_count": null,
   "id": "7e3fd8bc",
   "metadata": {},
   "outputs": [],
   "source": []
  }
 ],
 "metadata": {
  "kernelspec": {
   "display_name": "Python 3 (ipykernel)",
   "language": "python",
   "name": "python3"
  },
  "language_info": {
   "codemirror_mode": {
    "name": "ipython",
    "version": 3
   },
   "file_extension": ".py",
   "mimetype": "text/x-python",
   "name": "python",
   "nbconvert_exporter": "python",
   "pygments_lexer": "ipython3",
   "version": "3.10.9"
  }
 },
 "nbformat": 4,
 "nbformat_minor": 5
}
